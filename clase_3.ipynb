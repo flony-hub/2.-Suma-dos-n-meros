{
  "nbformat": 4,
  "nbformat_minor": 0,
  "metadata": {
    "colab": {
      "provenance": [],
      "include_colab_link": true
    },
    "kernelspec": {
      "name": "python3",
      "display_name": "Python 3"
    },
    "language_info": {
      "name": "python"
    }
  },
  "cells": [
    {
      "cell_type": "markdown",
      "metadata": {
        "id": "view-in-github",
        "colab_type": "text"
      },
      "source": [
        "<a href=\"https://colab.research.google.com/github/flony-hub/2.-Suma-dos-n-meros/blob/main/clase_3.ipynb\" target=\"_parent\"><img src=\"https://colab.research.google.com/assets/colab-badge.svg\" alt=\"Open In Colab\"/></a>"
      ]
    },
    {
      "cell_type": "markdown",
      "source": [
        "# **Importando la libreria de Numpy**"
      ],
      "metadata": {
        "id": "Ildd6i5T1Ibx"
      }
    },
    {
      "cell_type": "code",
      "source": [
        "#-- Importamos la libería\n",
        "import numpy as np"
      ],
      "metadata": {
        "id": "R8-cyaFh1Pjp"
      },
      "execution_count": 1,
      "outputs": []
    },
    {
      "cell_type": "markdown",
      "source": [
        "# **Creando \"ndarray\" a partir de ceros y unos**\n",
        "\n",
        "En NumPy, puedes crear arreglos llenos de ceros o unos utilizando las funciones **np.zeros()** y **np.ones()**, respectivamente. Estas funciones son útiles cuando necesitas inicializar matrices o vectores con valores específicos antes de realizar operaciones adicionales.\n",
        "\n"
      ],
      "metadata": {
        "id": "EB_2_jf_7OLX"
      }
    },
    {
      "cell_type": "code",
      "execution_count": 2,
      "metadata": {
        "id": "jTuXjtew2i4B"
      },
      "outputs": [],
      "source": [
        "#-- Generamos el array con una cantidad de 10 ceros y lo mostramos\n",
        "\n",
        "npVector=np.zeros(10)"
      ]
    },
    {
      "cell_type": "code",
      "source": [
        "#--Geramos el array con una cantidad de 10 unos y lo mostramos\n",
        "npVectorUnos=np.ones(10)"
      ],
      "metadata": {
        "id": "ZiR737ywXp1N"
      },
      "execution_count": 3,
      "outputs": []
    },
    {
      "cell_type": "markdown",
      "source": [
        "# **Creando un \"ndarray\" a partir de cualquier número y en cualquier cantidad**\n",
        "\n",
        "La función **np.full()** en NumPy se utiliza para crear un arreglo de las dimensiones especificadas, con un valor constante especificado. Esta función es útil cuando necesitas inicializar un arreglo con un valor específico diferente de cero o uno."
      ],
      "metadata": {
        "id": "NsgkSSbUaPvw"
      }
    },
    {
      "cell_type": "code",
      "source": [
        "#-- Generamos un arreglo de una cantidad x y el valor i y mostramos\n",
        "matriz=np.full((2,2), 10)\n",
        "matriz"
      ],
      "metadata": {
        "id": "DhRbPOXjZDOm",
        "colab": {
          "base_uri": "https://localhost:8080/"
        },
        "outputId": "7ff992ec-9ed5-4d09-a3d0-73adc64c26ee"
      },
      "execution_count": 4,
      "outputs": [
        {
          "output_type": "execute_result",
          "data": {
            "text/plain": [
              "array([[10, 10],\n",
              "       [10, 10]])"
            ]
          },
          "metadata": {},
          "execution_count": 4
        }
      ]
    },
    {
      "cell_type": "markdown",
      "source": [
        "# **Creando un \"ndarray\" a partir de un rango**\n",
        "\n",
        "La función **np.arange()** en NumPy se utiliza para crear arreglos con valores espaciados uniformemente dentro de un intervalo especificado.\n"
      ],
      "metadata": {
        "id": "ZXzQ2QtVbYQK"
      }
    },
    {
      "cell_type": "code",
      "source": [
        "#-- Creamos un vector (una dimensión) con diez números consecutivos y mostramos\n",
        "vectorConsecutivo= np.arange(0, 10, 1)\n",
        "vectorConsecutivo"
      ],
      "metadata": {
        "id": "2RmRmC4Pa24N",
        "colab": {
          "base_uri": "https://localhost:8080/"
        },
        "outputId": "a297c43d-878a-4939-fd20-eeb1022e3419"
      },
      "execution_count": 6,
      "outputs": [
        {
          "output_type": "execute_result",
          "data": {
            "text/plain": [
              "array([0, 1, 2, 3, 4, 5, 6, 7, 8, 9])"
            ]
          },
          "metadata": {},
          "execution_count": 6
        }
      ]
    },
    {
      "cell_type": "code",
      "source": [
        "#-- Creamos un vector (una dimensión) con 20 números partiendo desde 1 al 19 y mostramos\n",
        "vectorVeinte=np.arange(1, 20, 1)\n",
        "vectorVeinte"
      ],
      "metadata": {
        "id": "DcwG70mATqRi",
        "colab": {
          "base_uri": "https://localhost:8080/"
        },
        "outputId": "4a4d5d3a-98d1-4b43-a227-a929a058b28b"
      },
      "execution_count": 8,
      "outputs": [
        {
          "output_type": "execute_result",
          "data": {
            "text/plain": [
              "array([ 1,  2,  3,  4,  5,  6,  7,  8,  9, 10, 11, 12, 13, 14, 15, 16, 17,\n",
              "       18, 19])"
            ]
          },
          "metadata": {},
          "execution_count": 8
        }
      ]
    },
    {
      "cell_type": "code",
      "source": [
        "#-- Creamos un vector (una dimensión) con números pares partiendo desde 2 hasta 40 y mostramos\n",
        "vectorPares=np.arange(2, 41, 2)\n",
        "vectorPares\n"
      ],
      "metadata": {
        "id": "pUGMtUC4cSp1",
        "colab": {
          "base_uri": "https://localhost:8080/"
        },
        "outputId": "c7f7c8e0-ffee-4350-d52d-4b9a777dcde5"
      },
      "execution_count": 9,
      "outputs": [
        {
          "output_type": "execute_result",
          "data": {
            "text/plain": [
              "array([ 2,  4,  6,  8, 10, 12, 14, 16, 18, 20, 22, 24, 26, 28, 30, 32, 34,\n",
              "       36, 38, 40])"
            ]
          },
          "metadata": {},
          "execution_count": 9
        }
      ]
    },
    {
      "cell_type": "markdown",
      "source": [
        "## **Función 'randint'**\n",
        "\n",
        "La función randint genera números enteros aleatorios dentro de un rango especificado. Puedes definir el rango y la forma del array."
      ],
      "metadata": {
        "id": "LGxbcbILatb3"
      }
    },
    {
      "cell_type": "code",
      "source": [
        "#-- Creamos un array con números aleatorios entre 4 y 500 en una cantidad de 10 y mostramos\n",
        "arrayAleatorio= np.random.randint(4, 501, 10)\n",
        "arrayAleatorio"
      ],
      "metadata": {
        "id": "n11A7yIPa2Rq",
        "colab": {
          "base_uri": "https://localhost:8080/"
        },
        "outputId": "d806a767-ca44-4567-9228-f2940fc39204"
      },
      "execution_count": 11,
      "outputs": [
        {
          "output_type": "execute_result",
          "data": {
            "text/plain": [
              "array([369, 474, 246, 464,  20, 300, 107, 464, 211,  65])"
            ]
          },
          "metadata": {},
          "execution_count": 11
        }
      ]
    },
    {
      "cell_type": "markdown",
      "source": [
        "## **Accediendo a los valores de un vector**"
      ],
      "metadata": {
        "id": "q1WTnsNerHqY"
      }
    },
    {
      "cell_type": "code",
      "source": [
        "#-- Generamos un vector (arreglo unidimensional)\n",
        "vector=np.arange(0, 11, 1)\n",
        "vector\n",
        "\n",
        "#-- Acceder a un elemento específico por índice (índice comienza en 0)\n",
        "vector[2]\n",
        "\n",
        "#-- Acceder a varios elementos usando segmentación (slice)\n",
        "vector[1:3]\n",
        "\n",
        "#-- Modificar un elemento específico\n",
        "vector[3]=54"
      ],
      "metadata": {
        "id": "s6LoluzkrG02"
      },
      "execution_count": 15,
      "outputs": []
    },
    {
      "cell_type": "markdown",
      "source": [
        "# **Tarea 1 - crear ndarray**\n",
        "\n",
        "1. generar: un array de zeros y otro de unos y otro de números 8 en la cantidad que ud desee.\n",
        "2. generar un array con números impares partiendo de 3 hasta 93\n",
        "3. generar un array con números aleatorio en el rango de 8 al 900 en una cantidad de 20"
      ],
      "metadata": {
        "id": "j8pRvKBX2YWW"
      }
    },
    {
      "cell_type": "code",
      "source": [
        "#-- generar: un array de zeros y otro de unos y otro de números 8 en la cantidad que ud desee."
      ],
      "metadata": {
        "id": "gUTa4ZOfUzut"
      },
      "execution_count": null,
      "outputs": []
    },
    {
      "cell_type": "code",
      "source": [
        "#-- generar un array con números impares partiendo de 3 hasta 93"
      ],
      "metadata": {
        "id": "iuv6wRQfUzj5"
      },
      "execution_count": null,
      "outputs": []
    },
    {
      "cell_type": "code",
      "source": [
        "#-- generar un array con números aleatorio en el rango de 8 al 900 en una cantidad de 20"
      ],
      "metadata": {
        "id": "47RtpoSlUx1B"
      },
      "execution_count": null,
      "outputs": []
    },
    {
      "cell_type": "markdown",
      "source": [
        "\n",
        "\n",
        "---\n",
        "\n",
        "\n",
        "---\n",
        "\n",
        "\n",
        "\n"
      ],
      "metadata": {
        "id": "SeqJRBWd1BQi"
      }
    },
    {
      "cell_type": "markdown",
      "source": [
        "# **Ndarray de Dos Dimensiones (Matrices)**\n",
        "\n",
        "Esta estructura es esencialmente una **matriz** (o un **array bidimensional**)  puede almacenar elementos de cualquier tipo de dato, aunque típicamente se usa para números.\n",
        "\n",
        "Podemos generar una matriz a partir de un conjunto de listas, por ejemplo"
      ],
      "metadata": {
        "id": "3TdcityjDfU1"
      }
    },
    {
      "cell_type": "markdown",
      "source": [
        "## **Generando una matriz a partir de listas**"
      ],
      "metadata": {
        "id": "nzCNN9vTHkWf"
      }
    },
    {
      "cell_type": "code",
      "source": [
        "#-- Creamos 3 listas de la misma longitud\n"
      ],
      "metadata": {
        "id": "nOjuzuLFDjl_"
      },
      "execution_count": null,
      "outputs": []
    },
    {
      "cell_type": "code",
      "source": [
        "#-- Imprimimos cada una de las listas creadas\n"
      ],
      "metadata": {
        "id": "amYdWaPqkXMx"
      },
      "execution_count": null,
      "outputs": []
    },
    {
      "cell_type": "code",
      "source": [
        "#-- Generando la matriz\n"
      ],
      "metadata": {
        "id": "oK4w9O7ikW7h"
      },
      "execution_count": null,
      "outputs": []
    },
    {
      "cell_type": "code",
      "source": [
        "#-- Imprimimos las matriz\n"
      ],
      "metadata": {
        "id": "othP3aAfkWwB"
      },
      "execution_count": null,
      "outputs": []
    },
    {
      "cell_type": "markdown",
      "source": [
        "## **Generando una matriz a partir de un vector**"
      ],
      "metadata": {
        "id": "i5QOa8CYU_4k"
      }
    },
    {
      "cell_type": "code",
      "source": [
        "#-- Paso 1) Creamos un ndarray de numpy\n"
      ],
      "metadata": {
        "id": "xEDq4P-rpUzi"
      },
      "execution_count": null,
      "outputs": []
    },
    {
      "cell_type": "code",
      "source": [
        "#-- Paso 2) Utilizamos la función reshape() indicando la cantidad de filas y columnas\n"
      ],
      "metadata": {
        "id": "xV0OvilDkxmK"
      },
      "execution_count": null,
      "outputs": []
    },
    {
      "cell_type": "markdown",
      "source": [
        "## **Generando una matriz con números aleatorios**"
      ],
      "metadata": {
        "id": "uY8RpVYI1S1N"
      }
    },
    {
      "cell_type": "code",
      "source": [
        "#-- Utilizamos la función np.random.randint(2,40,(4,4))"
      ],
      "metadata": {
        "id": "h6GbA6lB1bka"
      },
      "execution_count": null,
      "outputs": []
    },
    {
      "cell_type": "markdown",
      "source": [
        "#**Propiedades ndim y shape**\n",
        "\n",
        "En NumPy, las propiedades **ndim** y **shape**\n",
        "se utilizan para obtener información sobre las dimensiones y la forma (tamaño) de un arreglo NumPy."
      ],
      "metadata": {
        "id": "FAbj7lhRrb5e"
      }
    },
    {
      "cell_type": "code",
      "source": [
        "#-- Tomando como ejemplo a los ndarray que ya hemos creado previamente\n",
        "#-- vamos a aplicarles las funciones\n",
        "\n"
      ],
      "metadata": {
        "id": "TeDJSgnLqn9_"
      },
      "execution_count": null,
      "outputs": []
    },
    {
      "cell_type": "code",
      "source": [
        "#-- Aplicamos ndim - shape\n",
        "#-- La sintaxis para averiguar la dimension es: ndaray.ndim\n",
        "#-- La sintaxis para averiguar el tamaño es: ndarray.shape\n"
      ],
      "metadata": {
        "id": "d1gtnXsQs4fs"
      },
      "execution_count": null,
      "outputs": []
    },
    {
      "cell_type": "markdown",
      "source": [
        "# **Tarea 2 - crear ndarray de dos dimensiones (matrices)**\n",
        "\n",
        "1. generar: un array de zeros y otro de unos en la cantidad de 8 elementos\n",
        "2. generar una matriz a partir de dichos vectores de (2x4) y de (4x2)\n",
        "3. generar 4 listas de 6 elementos numéricos y construir una matriz de filas y columnas a su gusto."
      ],
      "metadata": {
        "id": "acnv3Z-h8w6w"
      }
    },
    {
      "cell_type": "code",
      "source": [
        "#-- generar: un array de zeros y otro de unos en la cantidad de 8 elementos"
      ],
      "metadata": {
        "id": "I_koWA0xjYU1"
      },
      "execution_count": null,
      "outputs": []
    },
    {
      "cell_type": "code",
      "source": [
        "#-- generar una matriz a partir de dichos vectores de (2x4) y de (4x2)"
      ],
      "metadata": {
        "id": "ico08GSajYLI"
      },
      "execution_count": null,
      "outputs": []
    },
    {
      "cell_type": "code",
      "source": [
        "#-- generar 4 listas de 6 elementos numéricos y construir una matriz de filas y columnas a su gusto."
      ],
      "metadata": {
        "id": "F8D1KZpXjX75"
      },
      "execution_count": null,
      "outputs": []
    },
    {
      "cell_type": "markdown",
      "source": [
        "# **Funciones sum(), max(), min(), mean() en Matrices de Numpy**\n",
        "\n",
        "En NumPy, las funciones **sum()**, **max()**, **min()** y **mean()** son funciones útiles para realizar **operaciones estadísticas** y de **reducción** en matrices y arreglos multidimensionales."
      ],
      "metadata": {
        "id": "5zB5YDrpxh8U"
      }
    },
    {
      "cell_type": "markdown",
      "source": [
        "## **Función sum()**\n",
        "\n",
        "La función **sum()** se utiliza para calcular la suma de los elementos de una matriz a lo largo de un eje específico o de todos los elementos si no se especifica el eje."
      ],
      "metadata": {
        "id": "dWwpnS3v1Eak"
      }
    },
    {
      "cell_type": "code",
      "source": [
        "# Crear una matriz a partir de dos listas"
      ],
      "metadata": {
        "id": "1asYNvqhz1Ff"
      },
      "execution_count": null,
      "outputs": []
    },
    {
      "cell_type": "code",
      "source": [
        "#-- La suma de todos los elementos de la matriz\n",
        "#-- La sintaxis es np.sum(matriz_a_sumar)\n"
      ],
      "metadata": {
        "id": "WeEpmBN-l5vp"
      },
      "execution_count": null,
      "outputs": []
    },
    {
      "cell_type": "code",
      "source": [
        "#-- Otra forma de hacer la misma operación es\n"
      ],
      "metadata": {
        "id": "CBJSErrRmG5I"
      },
      "execution_count": null,
      "outputs": []
    },
    {
      "cell_type": "markdown",
      "source": [
        "## **Función max()**\n",
        "\n",
        "La función **max()** devuelve el valor máximo a lo largo de un eje especificado o el máximo de todos los elementos si no se especifica el eje.\n"
      ],
      "metadata": {
        "id": "x0fE1idI4n_b"
      }
    },
    {
      "cell_type": "code",
      "source": [
        "# Crear una matriz a partir de tres listas\n"
      ],
      "metadata": {
        "id": "IPk3PAHC6YlV"
      },
      "execution_count": null,
      "outputs": []
    },
    {
      "cell_type": "code",
      "source": [
        "#-- Valor máximo de toda la matriz\n"
      ],
      "metadata": {
        "id": "z7F9Uky54_hq"
      },
      "execution_count": null,
      "outputs": []
    },
    {
      "cell_type": "code",
      "source": [
        "#-- Valor máximo a lo largo de las filas (eje 1 o axis = 1)\n"
      ],
      "metadata": {
        "id": "INcFih_J5tx2"
      },
      "execution_count": null,
      "outputs": []
    },
    {
      "cell_type": "code",
      "source": [
        "#-- Valor máximo a lo largo de las columnas (eje 0 o axis = 0)\n"
      ],
      "metadata": {
        "id": "ggQH4boF64fO"
      },
      "execution_count": null,
      "outputs": []
    },
    {
      "cell_type": "markdown",
      "source": [
        "## **Funcion min()**\n",
        "\n",
        "La función **min()** devuelve el valor mínimo a lo largo de un eje especificado o el mínimo de todos los elementos si no se especifica el eje.\n",
        "\n",
        "***NOTA: La aplicación es similar a la funcion max() solamente que debemos utilizar min()***"
      ],
      "metadata": {
        "id": "d1-rbO6N7iRT"
      }
    },
    {
      "cell_type": "markdown",
      "source": [
        "## **Función mean()**\n",
        "\n",
        "La función **mean()** calcula el promedio de los elementos de la matriz a lo largo de un eje especificado o el promedio de todos los elementos si no se especifica el eje."
      ],
      "metadata": {
        "id": "tLm_udex8AZB"
      }
    },
    {
      "cell_type": "code",
      "source": [
        "# Crear una matriz a partir de dos listas\n"
      ],
      "metadata": {
        "id": "kTJ_gknz774y"
      },
      "execution_count": null,
      "outputs": []
    },
    {
      "cell_type": "code",
      "source": [
        "#-- El promedio de todos los elementos de la matriz\n",
        "\n"
      ],
      "metadata": {
        "id": "N5ajIT3K96Ei"
      },
      "execution_count": null,
      "outputs": []
    },
    {
      "cell_type": "code",
      "source": [
        "#-- El promedio a lo largo de las filas (eje 1 o axis = 1)\n"
      ],
      "metadata": {
        "id": "aXAkAUb2-UIb"
      },
      "execution_count": null,
      "outputs": []
    },
    {
      "cell_type": "code",
      "source": [
        "#-- El promedio a lo largo de las columnas (eje 0 o axis = 0)\n"
      ],
      "metadata": {
        "id": "JAQd8u8t-4dR"
      },
      "execution_count": null,
      "outputs": []
    },
    {
      "cell_type": "markdown",
      "source": [
        "# **Accediendo a los elementos de una matriz**\n",
        "\n",
        "Para acceder a los elementos de una **matriz** (arreglo bidimensional) en NumPy, puedes utilizar técnicas de **indexación** y **segmentación**."
      ],
      "metadata": {
        "id": "cMMff5maBTrY"
      }
    },
    {
      "cell_type": "code",
      "source": [
        "#-- Generamos una matriz (arreglo bidimensional)\n",
        "#--Imprimimos la matriz\n"
      ],
      "metadata": {
        "id": "VceBxAj-JbSF"
      },
      "execution_count": null,
      "outputs": []
    },
    {
      "cell_type": "code",
      "source": [
        "#-- Acceder a un elemento específico por índices de fila y columna (índices comienzan en 0)\n"
      ],
      "metadata": {
        "id": "Z7aCi9d9K-gE"
      },
      "execution_count": null,
      "outputs": []
    },
    {
      "cell_type": "code",
      "source": [
        "#-- Acceder a una fila específica\n"
      ],
      "metadata": {
        "id": "NojAPs_oNmV9"
      },
      "execution_count": null,
      "outputs": []
    },
    {
      "cell_type": "code",
      "source": [
        "#-- Acceder a una columna específica\n"
      ],
      "metadata": {
        "id": "XNSDaQsVOfrg"
      },
      "execution_count": null,
      "outputs": []
    },
    {
      "cell_type": "code",
      "source": [
        "#-- Modificar un elemento específico\n"
      ],
      "metadata": {
        "id": "fCm-xM4lPlyB"
      },
      "execution_count": null,
      "outputs": []
    }
  ]
}